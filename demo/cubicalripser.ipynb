{
 "cells": [
  {
   "cell_type": "code",
   "execution_count": 1,
   "metadata": {},
   "outputs": [],
   "source": [
    "#%matplotlib inline\n",
    "#%matplotlib widget\n",
    "%matplotlib notebook\n",
    "import numpy as np\n",
    "import matplotlib.pyplot as plt\n",
    "from mpl_toolkits.mplot3d import Axes3D\n",
    "from matplotlib.widgets import Slider, Button, RadioButtons\n",
    "import os,time,subprocess,glob\n",
    "from PIL import Image\n",
    "\n",
    "## set the following appropriately\n",
    "#PH_PROG = \"CubicalRipserFixOld.exe\"\n",
    "PH_PROG = \"CubicalRipser.exe\"\n",
    "PH_PROG = \"./cubicalripser\"\n",
    "volfile = \"vol.npy\"\n",
    "ph_out = \"PH.npy\""
   ]
  },
  {
   "cell_type": "code",
   "execution_count": null,
   "metadata": {},
   "outputs": [],
   "source": [
    "# load image files and stack into a 3D array\n",
    "input_files = \"*.jpg\"\n",
    "files = sorted([f for f in glob.glob(input_files)])\n",
    "img = np.dstack([Image.open(f).convert('L') for f in files]).astype('f8')\n",
    "np.save(volfile,img)\n",
    "print(img.shape, img.dtype, np.min(img),np.max(img))"
   ]
  },
  {
   "cell_type": "code",
   "execution_count": null,
   "metadata": {},
   "outputs": [],
   "source": [
    "# load image files and save in a 2D array\n",
    "#input_file = \"lena00.jpg\"\n",
    "#img = np.array(Image.open(input_file).convert('L'),dtype='f8')\n",
    "#np.save(volfile,img)\n",
    "#print(img.shape, img.dtype, np.min(img),np.max(img))"
   ]
  },
  {
   "cell_type": "code",
   "execution_count": null,
   "metadata": {},
   "outputs": [],
   "source": [
    "# compute PH (takes time)\n",
    "start = time.time()\n",
    "result = subprocess.run(PH_PROG+' --output '+ph_out+' '+volfile, shell=True)\n",
    "print(result)\n",
    "elapsed_time = time.time() - start\n",
    "print (\"elapsed_time:{} sec\".format(elapsed_time))"
   ]
  },
  {
   "cell_type": "code",
   "execution_count": null,
   "metadata": {
    "scrolled": false
   },
   "outputs": [],
   "source": [
    "# load computed PH\n",
    "pd = np.load(ph_out)\n",
    "pd0 = pd[pd[:,0] == 0]\n",
    "pd1 = pd[pd[:,0] == 1]\n",
    "pd2 = pd[pd[:,0] == 2]\n",
    "print(\"#0-cycle {}, #1-cycle {}, #2-cycle {}\".format(len(pd0),len(pd1),len(pd2)))\n",
    "# each line contains (dim,birth,death,x,y,z)\n",
    "print(pd0[:5])\n",
    "print(pd1[:5])\n",
    "print(pd2[:5])"
   ]
  },
  {
   "cell_type": "code",
   "execution_count": null,
   "metadata": {},
   "outputs": [],
   "source": [
    "# compute the heatmap of selected cycles\n",
    "img = np.load(volfile)\n",
    "mx,my,mz=img.shape\n",
    "selected_cycle = np.zeros(img.shape)\n",
    "h=3\n",
    "min_life = 10\n",
    "max_life =255\n",
    "min_birth = 0\n",
    "max_birth = 255\n",
    "dimension = 0\n",
    "pds = pd[pd[:,0] == dimension ]\n",
    "pds = pds[min_life < pds[:,2]-pds[:,1]]\n",
    "pds = pds[pds[:,2]-pds[:,1] < max_life]\n",
    "pds = pds[min_birth < pds[:,1]]\n",
    "pds = pds[pds[:,1] < max_birth]\n",
    "\n",
    "print(pds.shape)\n",
    "for c in pds:\n",
    "    x,y,z=int(c[3]),int(c[4]),int(c[5])\n",
    "#    selected_cycle[x,y,z] += 1\n",
    "    selected_cycle[max(0,x-h):min(mx,x+h),max(0,y-h):min(my,y+h),max(0,z-h):min(mz,z+h)] += 1\n",
    "\n",
    "print(np.min(selected_cycle),np.max(selected_cycle),np.sum(selected_cycle))"
   ]
  },
  {
   "cell_type": "code",
   "execution_count": null,
   "metadata": {},
   "outputs": [],
   "source": [
    "# Visualise \n",
    "vol = selected_cycle\n",
    "#vol = selected_cycle > 300\n",
    "fig = plt.figure()\n",
    "fig.subplots_adjust(left=0.25, bottom=0.25)\n",
    "ax = plt.subplot(121)\n",
    "ind = vol.shape[2]//2\n",
    "l = ax.imshow(vol[:,:,ind])\n",
    "ax = plt.subplot(122)\n",
    "l2 = ax.imshow(img[:,:,ind])\n",
    "def update(val):\n",
    "    ind = int(slider.val)\n",
    "    l.set_data(vol[:,:,ind])\n",
    "    l2.set_data(img[:,:,ind])\n",
    "    fig.canvas.draw()        \n",
    "ax = fig.add_axes([0.25, 0.1, 0.65, 0.03])\n",
    "slider = Slider(ax, 'index', 0, vol.shape[2] - 1, valinit=ind, valfmt='%i')\n",
    "slider.on_changed(update)\n",
    "plt.show()"
   ]
  },
  {
   "cell_type": "code",
   "execution_count": null,
   "metadata": {},
   "outputs": [],
   "source": []
  }
 ],
 "metadata": {
  "kernelspec": {
   "display_name": "Python 3",
   "language": "python",
   "name": "python3"
  },
  "language_info": {
   "codemirror_mode": {
    "name": "ipython",
    "version": 3
   },
   "file_extension": ".py",
   "mimetype": "text/x-python",
   "name": "python",
   "nbconvert_exporter": "python",
   "pygments_lexer": "ipython3",
   "version": "3.6.3"
  }
 },
 "nbformat": 4,
 "nbformat_minor": 4
}
