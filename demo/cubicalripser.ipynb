{
 "cells": [
  {
   "cell_type": "markdown",
   "metadata": {
    "colab_type": "text",
    "id": "view-in-github"
   },
   "source": [
    "<a href=\"https://colab.research.google.com/github/shizuo-kaji/CubicalRipser_3dim/blob/master/demo/cubicalripser.ipynb\" target=\"_parent\"><img src=\"https://colab.research.google.com/assets/colab-badge.svg\" alt=\"Open In Colab\"/></a>"
   ]
  },
  {
   "cell_type": "code",
   "execution_count": 0,
   "metadata": {
    "colab": {},
    "colab_type": "code",
    "id": "3eJkuQ55SYrs"
   },
   "outputs": [],
   "source": [
    "## If you do not have the necessary libraries installed, run this cell (only for once)\n",
    "## Be patient! It takes time.\n",
    "# for standard libraries such as numpy, scipy, scikit-learn\n",
    "# I recommend to use the package manager \"conda\". e.g.,  \"conda install scikit-learn\"\n",
    "!pip install persim\n",
    "!pip install git+https://github.com/shizuo-kaji/CubicalRipser_3dim"
   ]
  },
  {
   "cell_type": "code",
   "execution_count": 1,
   "metadata": {
    "colab": {},
    "colab_type": "code",
    "id": "LRf3kQ4ySU0h"
   },
   "outputs": [],
   "source": [
    "## load necessary libraries\n",
    "%matplotlib inline\n",
    "#%matplotlib widget\n",
    "import numpy as np\n",
    "import matplotlib.pyplot as plt\n",
    "from mpl_toolkits.mplot3d import Axes3D\n",
    "from matplotlib.widgets import Slider, Button, RadioButtons\n",
    "import os,time,subprocess,glob\n",
    "from PIL import Image\n",
    "import cripser as cr"
   ]
  },
  {
   "cell_type": "code",
   "execution_count": 4,
   "metadata": {
    "colab": {},
    "colab_type": "code",
    "id": "s11O3IgISpkA"
   },
   "outputs": [],
   "source": [
    "## set the following appropriately\n",
    "PH_PROG = \"../mac/cubicalripser\"     ## executable for Mac/Linux\n",
    "PH_PROG_T = \"../mac/t-cubicalripser\"     ## executable for Mac/Linux for T-construction\n",
    "#PH_PROG = \"CubicalRipser.exe\"   ## executable for Windows\n",
    "IMG_DIR = \"./lena/\"  ## dir containing images; they must be of the same dimension\n",
    "volfile = \"img.npy\"  ## the image files will be combined and saved in this numpy file\n",
    "ph_out = \"PH.npy\"    ## the computed persistent homology will be saved in this numpy file"
   ]
  },
  {
   "cell_type": "code",
   "execution_count": 3,
   "metadata": {
    "colab": {},
    "colab_type": "code",
    "id": "A9Yvz0zASU0o"
   },
   "outputs": [
    {
     "name": "stdout",
     "output_type": "stream",
     "text": [
      "(512, 512, 9) float64 0.0 255.0\n"
     ]
    }
   ],
   "source": [
    "## 3D example (local jupyter-notebook only, for Google Colab goto the next cell)\n",
    "# load image files from a dir and stack into a 3D array of type float64\n",
    "input_files = IMG_DIR+\"*.jpg\"\n",
    "files = sorted([f for f in glob.glob(input_files)])\n",
    "img = np.dstack([Image.open(f).convert('L') for f in files]).astype('f8')\n",
    "print(img.shape, img.dtype, np.min(img),np.max(img))"
   ]
  },
  {
   "cell_type": "code",
   "execution_count": 0,
   "metadata": {
    "colab": {},
    "colab_type": "code",
    "id": "H5jV4Zc2S4zI"
   },
   "outputs": [],
   "source": [
    "# create a dummy volume from scikit-learn\n",
    "import skimage\n",
    "from skimage import io\n",
    "from skimage.transform import rotate\n",
    "im = skimage.data.camera()\n",
    "io.imsave('img.bmp', im)\n",
    "np.save('img.npy',im)\n",
    "img = np.dstack([rotate(im, 10*i) for i in range(8)])\n",
    "np.save(volfile,img.astype(np.float64))\n",
    "print(img.shape, img.dtype, np.min(img),np.max(img))"
   ]
  },
  {
   "cell_type": "code",
   "execution_count": 0,
   "metadata": {
    "colab": {},
    "colab_type": "code",
    "id": "kgDQ_VrOSU0t"
   },
   "outputs": [],
   "source": [
    "# make binary and apply distance transform\n",
    "def dt(img,radius=15):\n",
    "    from scipy.ndimage.morphology import distance_transform_edt\n",
    "    from skimage.filters import threshold_otsu\n",
    "#    bw_img = (img >= rank.otsu(img, disk(radius)))\n",
    "    bw_img = (img >= threshold_otsu(img))\n",
    "    dt_img = distance_transform_edt(bw_img)\n",
    "    return(dt_img)"
   ]
  },
  {
   "cell_type": "code",
   "execution_count": 0,
   "metadata": {
    "colab": {},
    "colab_type": "code",
    "id": "Hr4k9697SU0x"
   },
   "outputs": [],
   "source": [
    "# apply distance transform, if you want\n",
    "#img = dt(img)"
   ]
  },
  {
   "cell_type": "code",
   "execution_count": 0,
   "metadata": {
    "colab": {},
    "colab_type": "code",
    "id": "sqeYhrjGSU01"
   },
   "outputs": [],
   "source": [
    "# compute PH with the python wrapper (takes time)\n",
    "start = time.time()\n",
    "pd = cr.computePH(img)\n",
    "print (\"elapsed_time:{} sec\".format(time.time() - start))"
   ]
  },
  {
   "cell_type": "code",
   "execution_count": 0,
   "metadata": {
    "colab": {},
    "colab_type": "code",
    "id": "n-5EW6tHSU05"
   },
   "outputs": [],
   "source": [
    "## plot persistent diagram using persim\n",
    "%matplotlib inline\n",
    "import persim\n",
    "pds = [pd[pd[:,0] == i] for i in range(3)]\n",
    "persim.plot_diagrams([p[:,1:3] for p in pds])"
   ]
  },
  {
   "cell_type": "code",
   "execution_count": 0,
   "metadata": {
    "colab": {},
    "colab_type": "code",
    "id": "Y0rTyRNPSU08"
   },
   "outputs": [],
   "source": [
    "# load computed PH\n",
    "print(\"#0-cycle {}, #1-cycle {}, #2-cycle {}\".format(len(pds[0]),len(pds[1]),len(pds[2])))\n",
    "# each line contains (dim,birth,death,x,y,z)\n",
    "print(pds[0][:5])\n",
    "print(pds[1][:5])\n",
    "print(pds[2][:5])"
   ]
  },
  {
   "cell_type": "code",
   "execution_count": 0,
   "metadata": {
    "colab": {},
    "colab_type": "code",
    "id": "MDW8YG44SU1A"
   },
   "outputs": [],
   "source": [
    "## compute the heatmap of cycles with specified birth-death properties\n",
    "# the heatmap image reveals what kind of image features are captured by PH\n",
    "def heat_map(img,pd,h=3,min_life = 10,max_life =255,min_birth = 0,max_birth = 255,dimension = 0,life_weighted=True):\n",
    "  if len(img.shape)==2:\n",
    "    mx,my=img.shape\n",
    "    mz = 1\n",
    "  else:\n",
    "    mx,my,mz=img.shape\n",
    "\n",
    "  selected_cycle = np.zeros((mx,my,mz))\n",
    "  ppd = pd[pd[:,0] == dimension]\n",
    "  ppd = ppd[min_life < ppd[:,2]-ppd[:,1]]\n",
    "  ppd = ppd[ppd[:,2]-ppd[:,1] < max_life]\n",
    "  ppd = ppd[min_birth < ppd[:,1]]\n",
    "  ppd = ppd[ppd[:,1] < max_birth]\n",
    "  w = 1\n",
    "  for c in ppd:\n",
    "      x,y,z=int(c[3]),int(c[4]),int(c[5])\n",
    "      if life_weighted:\n",
    "        w = c[2]-c[1]\n",
    "      selected_cycle[max(0,x-h):min(mx,x+h),max(0,y-h):min(my,y+h),max(0,z-h):min(mz,z+h)] += w\n",
    "#  print(np.min(selected_cycle),np.max(selected_cycle),np.sum(selected_cycle))\n",
    "  return(np.squeeze(selected_cycle))"
   ]
  },
  {
   "cell_type": "code",
   "execution_count": 0,
   "metadata": {
    "colab": {},
    "colab_type": "code",
    "id": "Nb-MMJV4SU1D"
   },
   "outputs": [],
   "source": [
    "# Visualise the result heatmap (visualisation works only with local jupyter-notebook)\n",
    "%matplotlib notebook\n",
    "vol = heat_map(img,pd,dimension=2)\n",
    "fig = plt.figure()\n",
    "fig.subplots_adjust(left=0.25, bottom=0.25)\n",
    "ax = plt.subplot(121)\n",
    "ind = vol.shape[2]//2\n",
    "l = ax.imshow(vol[:,:,ind])\n",
    "ax = plt.subplot(122)\n",
    "l2 = ax.imshow(img[:,:,ind])\n",
    "def update(val):\n",
    "    ind = int(slider.val)\n",
    "    l.set_data(vol[:,:,ind])\n",
    "    l2.set_data(img[:,:,ind])\n",
    "    fig.canvas.draw()        \n",
    "ax = fig.add_axes([0.25, 0.1, 0.65, 0.03])\n",
    "slider = Slider(ax, 'index', 0, vol.shape[2] - 1, valinit=ind, valfmt='%i')\n",
    "slider.on_changed(update)\n",
    "plt.show()"
   ]
  },
  {
   "cell_type": "code",
   "execution_count": 0,
   "metadata": {
    "colab": {},
    "colab_type": "code",
    "id": "tfsZ9KOUSU1G"
   },
   "outputs": [],
   "source": [
    "## load image from disk\n",
    "img = np.array(Image.open(\"img.bmp\").convert('L'),dtype='f8')\n",
    "print(img.shape, img.dtype, np.min(img),np.max(img))\n",
    "start = time.time()\n",
    "pd = cr.computePH(img)\n",
    "print (\"elapsed_time:{} sec\".format(time.time() - start))\n",
    "print(pd.shape)\n",
    "pds = [pd[pd[:,0] == i] for i in range(3)]\n",
    "persim.plot_diagrams([p[:,1:3] for p in pds])"
   ]
  },
  {
   "cell_type": "code",
   "execution_count": 0,
   "metadata": {
    "colab": {},
    "colab_type": "code",
    "id": "YjEguXBDSU1J"
   },
   "outputs": [],
   "source": [
    "## 1D example (scalar timeseries)\n",
    "%matplotlib inline\n",
    "x = np.linspace(0,4*np.pi,100)\n",
    "img = np.sin(x)+0.1*x\n",
    "plt.plot(x,img)\n",
    "pd = cr.computePH(img)"
   ]
  },
  {
   "cell_type": "code",
   "execution_count": 0,
   "metadata": {
    "colab": {},
    "colab_type": "code",
    "id": "y7zjh_XqSU1M"
   },
   "outputs": [],
   "source": [
    "## plot persistence diagram\n",
    "persim.plot_diagrams(pd[:,1:3])"
   ]
  },
  {
   "cell_type": "code",
   "execution_count": 0,
   "metadata": {
    "colab": {},
    "colab_type": "code",
    "id": "_70PhZ_5SU1P"
   },
   "outputs": [],
   "source": [
    "## load numpy array from disk\n",
    "img = np.load(\"img.npy\")\n",
    "start = time.time()\n",
    "pd = cr.computePH(img)\n",
    "print (\"elapsed_time:{} sec\".format(time.time() - start))\n",
    "print(pd.shape)\n",
    "pds = [pd[pd[:,0] == i] for i in range(3)]\n",
    "persim.plot_diagrams([p[:,1:3] for p in pds])"
   ]
  },
  {
   "cell_type": "code",
   "execution_count": 0,
   "metadata": {
    "colab": {},
    "colab_type": "code",
    "id": "WqsKvHMySU1S"
   },
   "outputs": [],
   "source": [
    "# compute PH with the executable via shell (local jupyter-notebook only)\n",
    "np.save(volfile,img)\n",
    "start = time.time()\n",
    "result = subprocess.run(PH_PROG+' --output '+ph_out+' '+volfile, shell=True)\n",
    "print(result)\n",
    "print (\"elapsed_time:{} sec\".format(time.time() - start))\n",
    "pd_c = np.load(ph_out)"
   ]
  },
  {
   "cell_type": "code",
   "execution_count": 0,
   "metadata": {
    "colab": {},
    "colab_type": "code",
    "id": "wLb1dzVlSU1V"
   },
   "outputs": [],
   "source": [
    "# the both method (python and executable) should give the same results\n",
    "np.array_equal(pd,pd_c)"
   ]
  },
  {
   "cell_type": "code",
   "execution_count": 0,
   "metadata": {
    "colab": {},
    "colab_type": "code",
    "id": "qn108b6cU4r9"
   },
   "outputs": [],
   "source": [
    "!ls"
   ]
  },
  {
   "cell_type": "code",
   "execution_count": 5,
   "metadata": {
    "colab": {},
    "colab_type": "code",
    "id": "Mxu6dpVdVDbo"
   },
   "outputs": [
    {
     "name": "stdout",
     "output_type": "stream",
     "text": [
      "CompletedProcess(args='../mac/t-cubicalripser --output PH.npy img.npy', returncode=0)\n",
      "elapsed_time:20.344515800476074 sec\n",
      "Betti numbers:  [25976, 62397, 32712]\n",
      "CompletedProcess(args='../mac/cubicalripser --embedded --output PH.npy img.npy', returncode=0)\n",
      "elapsed_time:9.113570928573608 sec\n",
      "Betti numbers:  [32713, 62397, 25976]\n"
     ]
    }
   ],
   "source": [
    "# compute PH with the executable via shell (local jupyter-notebook only)\n",
    "# V-construction vs T-construction\n",
    "np.save(volfile,img)\n",
    "start = time.time()\n",
    "result = subprocess.run(PH_PROG_T+' --output '+ph_out+' '+volfile, shell=True)\n",
    "print(result)\n",
    "print (\"elapsed_time:{} sec\".format(time.time() - start))\n",
    "res = np.load(ph_out)\n",
    "print(\"Betti numbers: \", [res[res[:,0]==i].shape[0] for i in range(3)])\n",
    "\n",
    "# using Alexander duality\n",
    "start = time.time()\n",
    "result = subprocess.run(PH_PROG+' --embedded --output '+ph_out+' '+volfile, shell=True)\n",
    "print(result)\n",
    "print (\"elapsed_time:{} sec\".format(time.time() - start))\n",
    "res = np.load(ph_out)\n",
    "print(\"Betti numbers: \", [res[res[:,0]==i].shape[0] for i in range(3)])\n"
   ]
  },
  {
   "cell_type": "code",
   "execution_count": null,
   "metadata": {},
   "outputs": [],
   "source": []
  }
 ],
 "metadata": {
  "colab": {
   "include_colab_link": true,
   "name": "cubicalripser.ipynb",
   "provenance": []
  },
  "kernelspec": {
   "display_name": "Python 3",
   "language": "python",
   "name": "python3"
  },
  "language_info": {
   "codemirror_mode": {
    "name": "ipython",
    "version": 3
   },
   "file_extension": ".py",
   "mimetype": "text/x-python",
   "name": "python",
   "nbconvert_exporter": "python",
   "pygments_lexer": "ipython3",
   "version": "3.7.7"
  }
 },
 "nbformat": 4,
 "nbformat_minor": 1
}
